{
 "cells": [
  {
   "cell_type": "code",
   "execution_count": 1,
   "metadata": {},
   "outputs": [
    {
     "name": "stderr",
     "output_type": "stream",
     "text": [
      "2021-11-27 19:52:15.571866: W tensorflow/stream_executor/platform/default/dso_loader.cc:64] Could not load dynamic library 'libcudart.so.11.0'; dlerror: libcudart.so.11.0: cannot open shared object file: No such file or directory\n",
      "2021-11-27 19:52:15.571906: I tensorflow/stream_executor/cuda/cudart_stub.cc:29] Ignore above cudart dlerror if you do not have a GPU set up on your machine.\n"
     ]
    }
   ],
   "source": [
    "import logging; logging.basicConfig(level=logging.INFO)\n",
    "import tensorflow as tf\n",
    "import numpy as np\n",
    "import matplotlib.pyplot as plt\n",
    "import logictensornetworks as ltn\n",
    "\n",
    "plt.rcParams['font.size'] = 12\n",
    "plt.rcParams['axes.linewidth'] = 1"
   ]
  },
  {
   "cell_type": "code",
   "execution_count": 20,
   "metadata": {},
   "outputs": [
    {
     "name": "stderr",
     "output_type": "stream",
     "text": [
      "[nltk_data] Downloading package mac_morpho to\n",
      "[nltk_data]     /home/castro/nltk_data...\n",
      "[nltk_data]   Package mac_morpho is already up-to-date!\n"
     ]
    },
    {
     "data": {
      "text/plain": [
       "True"
      ]
     },
     "execution_count": 20,
     "metadata": {},
     "output_type": "execute_result"
    }
   ],
   "source": [
    "import nltk\n",
    "nltk.download('mac_morpho')"
   ]
  },
  {
   "cell_type": "code",
   "execution_count": 25,
   "metadata": {},
   "outputs": [
    {
     "name": "stderr",
     "output_type": "stream",
     "text": [
      "INFO:gensim.models.word2vec:collecting all words and their counts\n",
      "INFO:gensim.models.word2vec:PROGRESS: at sentence #0, processed 0 words, keeping 0 word types\n",
      "INFO:gensim.models.word2vec:PROGRESS: at sentence #10000, processed 222309 words, keeping 21151 word types\n",
      "INFO:gensim.models.word2vec:PROGRESS: at sentence #20000, processed 444198 words, keeping 31619 word types\n",
      "INFO:gensim.models.word2vec:PROGRESS: at sentence #30000, processed 649257 words, keeping 41168 word types\n",
      "INFO:gensim.models.word2vec:PROGRESS: at sentence #40000, processed 883670 words, keeping 55491 word types\n",
      "INFO:gensim.models.word2vec:PROGRESS: at sentence #50000, processed 1136021 words, keeping 66723 word types\n",
      "INFO:gensim.models.word2vec:collected 67696 word types from a corpus of 1170095 raw words and 51397 sentences\n",
      "INFO:gensim.models.word2vec:Creating a fresh vocabulary\n",
      "INFO:gensim.utils:Word2Vec lifecycle event {'msg': 'effective_min_count=5 retains 17081 unique words (25.23191916804538%% of original 67696, drops 50615)', 'datetime': '2021-11-27T21:42:26.288610', 'gensim': '4.1.2', 'python': '3.8.10 (default, Sep 28 2021, 16:10:42) \\n[GCC 9.3.0]', 'platform': 'Linux-5.10.60.1-microsoft-standard-WSL2-x86_64-with-glibc2.29', 'event': 'prepare_vocab'}\n",
      "INFO:gensim.utils:Word2Vec lifecycle event {'msg': 'effective_min_count=5 leaves 1088141 word corpus (92.99595332002957%% of original 1170095, drops 81954)', 'datetime': '2021-11-27T21:42:26.289523', 'gensim': '4.1.2', 'python': '3.8.10 (default, Sep 28 2021, 16:10:42) \\n[GCC 9.3.0]', 'platform': 'Linux-5.10.60.1-microsoft-standard-WSL2-x86_64-with-glibc2.29', 'event': 'prepare_vocab'}\n",
      "INFO:gensim.models.word2vec:deleting the raw counts dictionary of 67696 items\n",
      "INFO:gensim.models.word2vec:sample=0.001 downsamples 28 most-common words\n",
      "INFO:gensim.utils:Word2Vec lifecycle event {'msg': 'downsampling leaves estimated 719724.9208413878 word corpus (66.1%% of prior 1088141)', 'datetime': '2021-11-27T21:42:26.390757', 'gensim': '4.1.2', 'python': '3.8.10 (default, Sep 28 2021, 16:10:42) \\n[GCC 9.3.0]', 'platform': 'Linux-5.10.60.1-microsoft-standard-WSL2-x86_64-with-glibc2.29', 'event': 'prepare_vocab'}\n",
      "INFO:gensim.models.word2vec:estimated required memory for 17081 words and 100 dimensions: 22205300 bytes\n",
      "INFO:gensim.models.word2vec:resetting layer weights\n",
      "INFO:gensim.utils:Word2Vec lifecycle event {'update': False, 'trim_rule': 'None', 'datetime': '2021-11-27T21:42:26.548452', 'gensim': '4.1.2', 'python': '3.8.10 (default, Sep 28 2021, 16:10:42) \\n[GCC 9.3.0]', 'platform': 'Linux-5.10.60.1-microsoft-standard-WSL2-x86_64-with-glibc2.29', 'event': 'build_vocab'}\n",
      "INFO:gensim.utils:Word2Vec lifecycle event {'msg': 'training model with 3 workers on 17081 vocabulary and 100 features, using sg=0 hs=0 sample=0.001 negative=5 window=5 shrink_windows=True', 'datetime': '2021-11-27T21:42:26.549227', 'gensim': '4.1.2', 'python': '3.8.10 (default, Sep 28 2021, 16:10:42) \\n[GCC 9.3.0]', 'platform': 'Linux-5.10.60.1-microsoft-standard-WSL2-x86_64-with-glibc2.29', 'event': 'train'}\n",
      "INFO:gensim.models.word2vec:EPOCH 1 - PROGRESS: at 11.40% examples, 75415 words/s, in_qsize 0, out_qsize 0\n",
      "INFO:gensim.models.word2vec:EPOCH 1 - PROGRESS: at 21.97% examples, 74155 words/s, in_qsize 0, out_qsize 0\n",
      "INFO:gensim.models.word2vec:EPOCH 1 - PROGRESS: at 33.61% examples, 75588 words/s, in_qsize 0, out_qsize 0\n",
      "INFO:gensim.models.word2vec:EPOCH 1 - PROGRESS: at 45.74% examples, 77631 words/s, in_qsize 0, out_qsize 0\n",
      "INFO:gensim.models.word2vec:EPOCH 1 - PROGRESS: at 58.35% examples, 78081 words/s, in_qsize 0, out_qsize 0\n",
      "INFO:gensim.models.word2vec:EPOCH 1 - PROGRESS: at 71.03% examples, 78945 words/s, in_qsize 0, out_qsize 0\n",
      "INFO:gensim.models.word2vec:EPOCH 1 - PROGRESS: at 81.19% examples, 79296 words/s, in_qsize 0, out_qsize 0\n",
      "INFO:gensim.models.word2vec:EPOCH 1 - PROGRESS: at 91.07% examples, 79660 words/s, in_qsize 0, out_qsize 0\n",
      "INFO:gensim.models.word2vec:worker thread finished; awaiting finish of 2 more threads\n",
      "INFO:gensim.models.word2vec:worker thread finished; awaiting finish of 1 more threads\n",
      "INFO:gensim.models.word2vec:worker thread finished; awaiting finish of 0 more threads\n",
      "INFO:gensim.models.word2vec:EPOCH - 1 : training on 1170095 raw words (719713 effective words) took 9.0s, 80084 effective words/s\n",
      "INFO:gensim.models.word2vec:EPOCH 2 - PROGRESS: at 12.32% examples, 84188 words/s, in_qsize 0, out_qsize 0\n",
      "INFO:gensim.models.word2vec:EPOCH 2 - PROGRESS: at 24.74% examples, 81356 words/s, in_qsize 0, out_qsize 0\n",
      "INFO:gensim.models.word2vec:EPOCH 2 - PROGRESS: at 36.94% examples, 82224 words/s, in_qsize 0, out_qsize 0\n",
      "INFO:gensim.models.word2vec:EPOCH 2 - PROGRESS: at 50.25% examples, 84038 words/s, in_qsize 0, out_qsize 0\n",
      "INFO:gensim.models.word2vec:EPOCH 2 - PROGRESS: at 63.67% examples, 83664 words/s, in_qsize 0, out_qsize 0\n",
      "INFO:gensim.models.word2vec:EPOCH 2 - PROGRESS: at 72.42% examples, 79797 words/s, in_qsize 0, out_qsize 0\n",
      "INFO:gensim.models.word2vec:EPOCH 2 - PROGRESS: at 80.46% examples, 77528 words/s, in_qsize 0, out_qsize 0\n",
      "INFO:gensim.models.word2vec:EPOCH 2 - PROGRESS: at 91.07% examples, 78447 words/s, in_qsize 0, out_qsize 0\n",
      "INFO:gensim.models.word2vec:worker thread finished; awaiting finish of 2 more threads\n",
      "INFO:gensim.models.word2vec:worker thread finished; awaiting finish of 1 more threads\n",
      "INFO:gensim.models.word2vec:worker thread finished; awaiting finish of 0 more threads\n",
      "INFO:gensim.models.word2vec:EPOCH - 2 : training on 1170095 raw words (719745 effective words) took 9.1s, 79196 effective words/s\n",
      "INFO:gensim.models.word2vec:EPOCH 3 - PROGRESS: at 10.47% examples, 73178 words/s, in_qsize 0, out_qsize 0\n",
      "INFO:gensim.models.word2vec:EPOCH 3 - PROGRESS: at 23.79% examples, 81914 words/s, in_qsize 0, out_qsize 0\n",
      "INFO:gensim.models.word2vec:EPOCH 3 - PROGRESS: at 36.94% examples, 84942 words/s, in_qsize 0, out_qsize 0\n",
      "INFO:gensim.models.word2vec:EPOCH 3 - PROGRESS: at 51.13% examples, 87433 words/s, in_qsize 0, out_qsize 0\n",
      "INFO:gensim.models.word2vec:EPOCH 3 - PROGRESS: at 65.37% examples, 87990 words/s, in_qsize 0, out_qsize 0\n",
      "INFO:gensim.models.word2vec:EPOCH 3 - PROGRESS: at 77.35% examples, 88117 words/s, in_qsize 0, out_qsize 0\n",
      "INFO:gensim.models.word2vec:EPOCH 3 - PROGRESS: at 88.74% examples, 88767 words/s, in_qsize 0, out_qsize 0\n",
      "INFO:gensim.models.word2vec:worker thread finished; awaiting finish of 2 more threads\n",
      "INFO:gensim.models.word2vec:worker thread finished; awaiting finish of 1 more threads\n",
      "INFO:gensim.models.word2vec:worker thread finished; awaiting finish of 0 more threads\n",
      "INFO:gensim.models.word2vec:EPOCH - 3 : training on 1170095 raw words (719434 effective words) took 8.1s, 89319 effective words/s\n",
      "INFO:gensim.models.word2vec:EPOCH 4 - PROGRESS: at 9.57% examples, 66576 words/s, in_qsize 0, out_qsize 0\n",
      "INFO:gensim.models.word2vec:EPOCH 4 - PROGRESS: at 22.88% examples, 77136 words/s, in_qsize 0, out_qsize 0\n",
      "INFO:gensim.models.word2vec:EPOCH 4 - PROGRESS: at 36.11% examples, 81262 words/s, in_qsize 0, out_qsize 0\n",
      "INFO:gensim.models.word2vec:EPOCH 4 - PROGRESS: at 48.48% examples, 82050 words/s, in_qsize 0, out_qsize 0\n",
      "INFO:gensim.models.word2vec:EPOCH 4 - PROGRESS: at 62.09% examples, 82970 words/s, in_qsize 0, out_qsize 0\n",
      "INFO:gensim.models.word2vec:EPOCH 4 - PROGRESS: at 73.13% examples, 81729 words/s, in_qsize 0, out_qsize 0\n",
      "INFO:gensim.models.word2vec:EPOCH 4 - PROGRESS: at 83.62% examples, 81977 words/s, in_qsize 0, out_qsize 0\n",
      "INFO:gensim.models.word2vec:EPOCH 4 - PROGRESS: at 95.77% examples, 82550 words/s, in_qsize 0, out_qsize 0\n",
      "INFO:gensim.models.word2vec:worker thread finished; awaiting finish of 2 more threads\n",
      "INFO:gensim.models.word2vec:worker thread finished; awaiting finish of 1 more threads\n",
      "INFO:gensim.models.word2vec:worker thread finished; awaiting finish of 0 more threads\n",
      "INFO:gensim.models.word2vec:EPOCH - 4 : training on 1170095 raw words (719663 effective words) took 8.7s, 82697 effective words/s\n",
      "INFO:gensim.models.word2vec:EPOCH 5 - PROGRESS: at 12.32% examples, 86440 words/s, in_qsize 0, out_qsize 0\n",
      "INFO:gensim.models.word2vec:EPOCH 5 - PROGRESS: at 25.58% examples, 87721 words/s, in_qsize 0, out_qsize 0\n",
      "INFO:gensim.models.word2vec:EPOCH 5 - PROGRESS: at 37.73% examples, 87502 words/s, in_qsize 0, out_qsize 0\n",
      "INFO:gensim.models.word2vec:EPOCH 5 - PROGRESS: at 49.32% examples, 84755 words/s, in_qsize 0, out_qsize 0\n",
      "INFO:gensim.models.word2vec:EPOCH 5 - PROGRESS: at 62.88% examples, 84559 words/s, in_qsize 0, out_qsize 0\n",
      "INFO:gensim.models.word2vec:EPOCH 5 - PROGRESS: at 75.37% examples, 85129 words/s, in_qsize 0, out_qsize 0\n",
      "INFO:gensim.models.word2vec:EPOCH 5 - PROGRESS: at 85.82% examples, 85345 words/s, in_qsize 0, out_qsize 0\n",
      "INFO:gensim.models.word2vec:EPOCH 5 - PROGRESS: at 99.07% examples, 86127 words/s, in_qsize 0, out_qsize 0\n",
      "INFO:gensim.models.word2vec:worker thread finished; awaiting finish of 2 more threads\n",
      "INFO:gensim.models.word2vec:worker thread finished; awaiting finish of 1 more threads\n",
      "INFO:gensim.models.word2vec:worker thread finished; awaiting finish of 0 more threads\n",
      "INFO:gensim.models.word2vec:EPOCH - 5 : training on 1170095 raw words (719809 effective words) took 8.4s, 86035 effective words/s\n",
      "INFO:gensim.utils:Word2Vec lifecycle event {'msg': 'training on 5850475 raw words (3598364 effective words) took 43.2s, 83270 effective words/s', 'datetime': '2021-11-27T21:43:09.762696', 'gensim': '4.1.2', 'python': '3.8.10 (default, Sep 28 2021, 16:10:42) \\n[GCC 9.3.0]', 'platform': 'Linux-5.10.60.1-microsoft-standard-WSL2-x86_64-with-glibc2.29', 'event': 'train'}\n",
      "INFO:gensim.utils:Word2Vec lifecycle event {'params': 'Word2Vec(vocab=17081, vector_size=100, alpha=0.025)', 'datetime': '2021-11-27T21:43:09.763428', 'gensim': '4.1.2', 'python': '3.8.10 (default, Sep 28 2021, 16:10:42) \\n[GCC 9.3.0]', 'platform': 'Linux-5.10.60.1-microsoft-standard-WSL2-x86_64-with-glibc2.29', 'event': 'created'}\n",
      "INFO:gensim.utils:Word2Vec lifecycle event {'fname_or_handle': 'words.embedding', 'separately': 'None', 'sep_limit': 10485760, 'ignore': frozenset(), 'datetime': '2021-11-27T21:43:09.766066', 'gensim': '4.1.2', 'python': '3.8.10 (default, Sep 28 2021, 16:10:42) \\n[GCC 9.3.0]', 'platform': 'Linux-5.10.60.1-microsoft-standard-WSL2-x86_64-with-glibc2.29', 'event': 'saving'}\n",
      "INFO:gensim.utils:not storing attribute cum_table\n",
      "INFO:gensim.utils:saved words.embedding\n"
     ]
    }
   ],
   "source": [
    "import gensim\n",
    "import os\n",
    "from nltk.corpus import mac_morpho\n",
    "\n",
    "model = None\n",
    "if(not os.path.isfile('words.embedding')) :\n",
    "    model = gensim.models.Word2Vec(mac_morpho.sents())\n",
    "    model.save('words.embedding')\n",
    "else:\n",
    "    model = gensim.models.Word2Vec.load('words.embedding')"
   ]
  },
  {
   "cell_type": "code",
   "execution_count": 33,
   "metadata": {},
   "outputs": [
    {
     "data": {
      "text/plain": [
       "array([-0.22538242,  0.2286985 , -0.08642592,  0.5101153 , -0.07670149,\n",
       "       -0.33089477,  0.49373224,  1.0037396 , -0.5574486 , -0.0092357 ,\n",
       "       -0.05316457, -0.5235295 , -0.3392221 , -0.05960239,  0.44192162,\n",
       "       -0.4310527 ,  0.2297031 , -0.01982055, -0.82689214, -0.69131666,\n",
       "        0.17033188, -0.20338045,  1.1509361 , -0.09237459,  0.02922287,\n",
       "        0.15358163, -0.21219662, -0.1391112 , -0.6006143 ,  0.37654418,\n",
       "        0.5439457 , -0.15846714, -0.31887728, -0.8882812 ,  0.07675029,\n",
       "        0.31692904,  0.30836847, -0.02926312, -0.54430205, -0.19782996,\n",
       "       -0.00664757,  0.28394672, -0.2851502 , -0.30084065,  0.5897301 ,\n",
       "        0.12246361, -0.23388359, -0.18874834,  0.29261217,  0.10671755,\n",
       "        0.01325674, -0.2805874 , -0.05763155, -0.0417777 , -0.2287055 ,\n",
       "       -0.17522699,  0.20405923, -0.32532614, -0.33172408,  0.67952377,\n",
       "        0.8456158 , -0.0566431 ,  0.73380077, -0.04808023,  0.04885574,\n",
       "        0.30937678, -0.11281753,  0.66814953, -0.18399966, -0.03577203,\n",
       "       -0.065325  ,  0.08738982,  0.281535  ,  0.4118053 ,  0.10247272,\n",
       "       -0.06528988,  0.5379821 , -0.59855795, -0.41631916, -0.55598503,\n",
       "       -0.7282583 , -0.32534492,  0.2889546 ,  0.06554469, -0.55450624,\n",
       "       -0.2117223 , -0.11723159, -0.15149765,  0.4101367 ,  0.14666438,\n",
       "        0.4974209 ,  0.28060436, -0.09970738, -0.12740691,  0.35646775,\n",
       "        0.73058426,  0.2333376 , -0.41059586,  0.24134456, -0.42686298],\n",
       "      dtype=float32)"
      ]
     },
     "execution_count": 33,
     "metadata": {},
     "output_type": "execute_result"
    }
   ],
   "source": [
    "model.wv['carro']"
   ]
  },
  {
   "cell_type": "code",
   "execution_count": 44,
   "metadata": {},
   "outputs": [],
   "source": [
    "import glob\n",
    "\n",
    "path = ['./false_text/','./true_text/']\n",
    "g = [{}, {}]\n",
    "for i in range(2):\n",
    "    for file_name in glob.glob(path[i]+\"*.txt\"):\n",
    "        with open(file_name, 'r') as file:\n",
    "            text = list(gensim.utils.tokenize(file.read(), deacc=True))\n",
    "            # print(text)\n",
    "            vec_words = [model.wv[word] for word in text]\n",
    "            g[i][file_name] = vec_words\n",
    "# g\n",
    "full_g = {**g[0], **g[1]}\n",
    "# full_g    "
   ]
  },
  {
   "cell_type": "code",
   "execution_count": null,
   "metadata": {},
   "outputs": [],
   "source": [
    "batch_size=64\n",
    "nr_samples = 100\n",
    "nr_samples_train = 50\n",
    "data = np.random.uniform([0,0],[1,1],(nr_samples,2))\n",
    "labels = np.sum(np.square(data-[.5,.5]),axis=1)<.09\n",
    "\n",
    "# 400 examples for training; 100 examples for training\n",
    "ds_train = tf.data.Dataset\\\n",
    "        .from_tensor_slices((data[:nr_samples_train],labels[:nr_samples_train]))\\\n",
    "        .batch(batch_size)\n",
    "ds_test = tf.data.Dataset\\\n",
    "        .from_tensor_slices((data[nr_samples_train:],labels[nr_samples_train:]))\\\n",
    "        .batch(batch_size)\n"
   ]
  }
 ],
 "metadata": {
  "interpreter": {
   "hash": "916dbcbb3f70747c44a77c7bcd40155683ae19c65e1c03b4aa3499c5328201f1"
  },
  "kernelspec": {
   "display_name": "Python 3.8.10 64-bit",
   "language": "python",
   "name": "python3"
  },
  "language_info": {
   "codemirror_mode": {
    "name": "ipython",
    "version": 3
   },
   "file_extension": ".py",
   "mimetype": "text/x-python",
   "name": "python",
   "nbconvert_exporter": "python",
   "pygments_lexer": "ipython3",
   "version": "3.8.10"
  },
  "orig_nbformat": 4
 },
 "nbformat": 4,
 "nbformat_minor": 2
}
